{
 "cells": [
  {
   "cell_type": "code",
   "execution_count": 24,
   "id": "35c5aa4e-79df-4d30-a1a0-f8d12c06521a",
   "metadata": {},
   "outputs": [],
   "source": [
    "import pandas as pd\n",
    "from sklearn.model_selection import train_test_split\n",
    "from matplotlib import pyplot as plt\n",
    "import seaborn as sb\n",
    "from nltk.sentiment import SentimentIntensityAnalyzer\n",
    "from nltk.corpus import stopwords\n",
    "import nltk\n",
    "from sklearn.feature_extraction.text import TfidfVectorizer, CountVectorizer\n",
    "from imblearn.over_sampling import SMOTE\n",
    "from sklearn.naive_bayes import GaussianNB\n",
    "from sklearn.metrics import accuracy_score,confusion_matrix,ConfusionMatrixDisplay"
   ]
  },
  {
   "cell_type": "code",
   "execution_count": 7,
   "id": "f3ad59df-f331-47da-90a1-ac9d71a5f1fb",
   "metadata": {},
   "outputs": [],
   "source": [
    "# create dataset\n",
    "Synthetic_responses = [\n",
    "\"I love the sleek design of the car.\",\n",
    "\"The car has excellent fuel efficiency.\",\n",
    "\"The safety features in the car are top-notch.\",\n",
    "\"The car's performance on the road is outstanding.\",\n",
    "\"The interior of the car is spacious and comfortable.\",\n",
    "\"I'm impressed with the advanced technology features in the car.\",\n",
    "\"The car offers great value for the price.\",\n",
    "\"The handling and maneuverability of the car are superb.\",\n",
    "\"The car's infotainment system is user-friendly and intuitive.\",\n",
    "\"I appreciate the ample storage space in the car.\",\n",
    "\"The car's acceleration is impressive.\",\n",
    "\"The sound system in the car provides excellent audio quality.\",\n",
    "\"The car's exterior design is eye-catching.\",\n",
    "\"I find the car to be reliable and dependable.\",\n",
    "\"The car offers a smooth and comfortable ride.\",\n",
    "\"The car's braking system is efficient and responsive.\",\n",
    "\"The car's suspension provides a comfortable driving experience.\",\n",
    "\"I like the variety of color options available for the car.\",\n",
    "\"The car's maintenance costs are reasonable.\",\n",
    "\"The car's warranty coverage is comprehensive.\",\n",
    "\"The car's headlights offer excellent visibility at night.\",\n",
    "\"The car's seats are ergonomic and supportive.\",\n",
    "\"The car's handling in different weather conditions is impressive.\",\n",
    "\"The car's fuel economy exceeds my expectations.\",\n",
    "\"The car's safety ratings are reassuring.\",\n",
    "\"The car's technology integration with smartphones is seamless.\",\n",
    "\"I appreciate the car's spacious trunk capacity.\",\n",
    "\"The car's design reflects a modern and stylish look.\",\n",
    "\"The car's navigation system is accurate and reliable.\",\n",
    "\"The car's interior materials are of high quality.\",\n",
    "\"The car's climate control system provides optimal comfort.\",\n",
    "\"The car's engine power is impressive.\",\n",
    "\"I enjoy the panoramic sunroof in the car.\",\n",
    "\"The car's audio system offers immersive sound quality.\",\n",
    "\"The car's exterior color options are appealing.\",\n",
    "\"The car's transmission provides smooth gear shifts.\",\n",
    "\"The car's fuel efficiency allows for long drives without frequent refueling.\",\n",
    "\"The car's resale value is competitive.\",\n",
    "\"The car's seat comfort makes long trips enjoyable.\",\n",
    "\"The car's entertainment options cater to all passengers.\",\n",
    "\"The car's build quality feels sturdy and durable.\",\n",
    "\"The car's technology features enhance the driving experience.\",\n",
    "\"The car's suspension absorbs road bumps effectively.\",\n",
    "\"The car's interior lighting creates a pleasant ambiance.\",\n",
    "\"The car's handling in tight spaces is effortless.\",\n",
    "\"I appreciate the car's safety assist features, such as blind-spot monitoring and lane-keeping assist.\",\n",
    "\"The car's fuel tank capacity allows for extended driving range.\",\n",
    "\"The car's acceleration from 0 to 60 mph is impressive.\",\n",
    "\"The car's seating configuration offers flexibility for passengers and cargo.\",\n",
    "\"The car's exterior design stands out from other vehicles on the road.\",\n",
    "\"The car's engine noise is minimal during acceleration.\",\n",
    "\"The car's parking assist system makes parking hassle-free.\",\n",
    "\"The car's dashboard layout is intuitive and easy to navigate.\",\n",
    "\"The car's high-quality materials give it a luxurious feel.\",\n",
    "\"The car's safety features provide peace of mind.\",\n",
    "\"The car's suspension system offers a smooth and comfortable ride.\",\n",
    "\"I appreciate the car's fuel-saving start-stop feature.\",\n",
    "\"The car's responsive steering enhances the driving experience.\",\n",
    "\"The car's smartphone integration allows for seamless connectivity.\",\n",
    "\"The car's seating configuration offers no flexibility for passengers and cargo.\",\n",
    "\"The car's exterior design is old fashioned and boring.\",\n",
    "\"The car's engine noise is horrible during acceleration.\",\n",
    "\"The car's parking assist system is complicated\",\n",
    "\"The car's dashboard layout is not intuitive and difficult to navigate.\",\n",
    "\"The car's high-quality materials make it very expensive.\",\n",
    "\"The car's safety features creates many doubts.\",\n",
    "\"The car's suspension system offers is not smooth.\",\n",
    "\"I appreciate the car's fuel-saving start-stop feature but it is irritating.\",\n",
    "\"The car's steering is not responsive.\",\n",
    "\"The car's smartphone integration works erratically.\"\n",
    "]"
   ]
  },
  {
   "cell_type": "code",
   "execution_count": 8,
   "id": "575747f9-a07d-4142-96d4-7db718dca8c5",
   "metadata": {},
   "outputs": [
    {
     "data": {
      "text/plain": [
       "70"
      ]
     },
     "execution_count": 8,
     "metadata": {},
     "output_type": "execute_result"
    }
   ],
   "source": [
    "# check length\n",
    "len(Synthetic_responses)"
   ]
  },
  {
   "cell_type": "code",
   "execution_count": 9,
   "id": "cbed2110-7be3-4cc3-88b7-e7a6a7962d7d",
   "metadata": {},
   "outputs": [],
   "source": [
    "# sentiment analysis, preprocess and create columns\n",
    "sa = SentimentIntensityAnalyzer()\n",
    "res, neg, neu, pos, com, sen = [], [], [], [], [], []\n",
    "for i in Synthetic_responses:\n",
    "    res.append(i.lower())\n",
    "    neg.append(sa.polarity_scores(i)['neg'])\n",
    "    neu.append(sa.polarity_scores(i)['neu'])\n",
    "    pos.append(sa.polarity_scores(i)['pos'])\n",
    "    com.append(sa.polarity_scores(i)['compound'])\n",
    "    # instead of converting to numeric later; 1=positive,0=neutral,-1=negative\n",
    "    if sa.polarity_scores(i.lower())['compound'] > 0.5:\n",
    "        sen.append(1)\n",
    "    elif sa.polarity_scores(i.lower())['compound'] < 0.25:\n",
    "        sen.append(-1)\n",
    "    else:\n",
    "        sen.append(0)"
   ]
  },
  {
   "cell_type": "code",
   "execution_count": 10,
   "id": "2650bb9a-5008-4538-a415-ac27f377aa8a",
   "metadata": {},
   "outputs": [
    {
     "data": {
      "text/plain": [
       "(70, 70, 70, 70, 70, 70)"
      ]
     },
     "execution_count": 10,
     "metadata": {},
     "output_type": "execute_result"
    }
   ],
   "source": [
    "# check length of arrays\n",
    "len(res),len(neg),len(neu),len(pos),len(com),len(sen)"
   ]
  },
  {
   "cell_type": "code",
   "execution_count": 13,
   "id": "fec192a3-faf5-4ee3-8858-3f3fc5348b1a",
   "metadata": {},
   "outputs": [
    {
     "name": "stdout",
     "output_type": "stream",
     "text": [
      "<class 'pandas.core.frame.DataFrame'>\n",
      "RangeIndex: 70 entries, 0 to 69\n",
      "Data columns (total 6 columns):\n",
      " #   Column     Non-Null Count  Dtype  \n",
      "---  ------     --------------  -----  \n",
      " 0   Response   70 non-null     object \n",
      " 1   Negative   70 non-null     float64\n",
      " 2   Neutral    70 non-null     float64\n",
      " 3   Positive   70 non-null     float64\n",
      " 4   Compound   70 non-null     float64\n",
      " 5   Sentiment  70 non-null     int64  \n",
      "dtypes: float64(4), int64(1), object(1)\n",
      "memory usage: 3.4+ KB\n"
     ]
    },
    {
     "data": {
      "text/plain": [
       "(None,\n",
       "         Negative    Neutral   Positive   Compound  Sentiment\n",
       " count  70.000000  70.000000  70.000000  70.000000  70.000000\n",
       " mean    0.021457   0.768771   0.209771   0.269463  -0.100000\n",
       " std     0.072788   0.194901   0.193222   0.312863   0.870615\n",
       " min     0.000000   0.360000   0.000000  -0.542300  -1.000000\n",
       " 25%     0.000000   0.646000   0.000000   0.000000  -1.000000\n",
       " 50%     0.000000   0.714000   0.253500   0.361200   0.000000\n",
       " 75%     0.000000   1.000000   0.351000   0.510600   1.000000\n",
       " max     0.333000   1.000000   0.608000   0.757900   1.000000,\n",
       "                                              Response  Negative  Neutral  \\\n",
       " 0                              love sleek design car.     0.000    0.588   \n",
       " 1                      car excellent fuel efficiency.     0.000    0.392   \n",
       " 2                      safety features car top-notch.     0.000    0.714   \n",
       " 3                 car's performance road outstanding.     0.000    0.636   \n",
       " 4                  interior car spacious comfortable.     0.000    0.708   \n",
       " ..                                                ...       ...      ...   \n",
       " 65         car's safety features creates many doubts.     0.198    0.360   \n",
       " 66             car's suspension system offers smooth.     0.000    1.000   \n",
       " 67  appreciate car's fuel-saving start-stop featur...     0.289    0.578   \n",
       " 68                         car's steering responsive.     0.297    0.703   \n",
       " 69    car's smartphone integration works erratically.     0.000    1.000   \n",
       " \n",
       "     Positive  Compound  Sentiment  \n",
       " 0      0.412    0.6369          1  \n",
       " 1      0.608    0.7351          1  \n",
       " 2      0.286    0.4215          0  \n",
       " 3      0.364    0.6124          1  \n",
       " 4      0.292    0.5106          1  \n",
       " ..       ...       ...        ...  \n",
       " 65     0.441    0.4019          0  \n",
       " 66     0.000    0.0000         -1  \n",
       " 67     0.134   -0.4854         -1  \n",
       " 68     0.000   -0.2755         -1  \n",
       " 69     0.000    0.0000         -1  \n",
       " \n",
       " [70 rows x 6 columns])"
      ]
     },
     "execution_count": 13,
     "metadata": {},
     "output_type": "execute_result"
    }
   ],
   "source": [
    "# create df and display\n",
    "column_names = ['Response','Negative','Neutral','Positive','Compound','Sentiment']\n",
    "df = pd.DataFrame(columns=column_names)\n",
    "df['Response'] = res\n",
    "\n",
    "# remove stopwords\n",
    "sw = set(stopwords.words(\"english\"))\n",
    "df['Response'] = df['Response'].apply(lambda x: ' '.join([word for word in x.split() if word not in sw]))\n",
    "\n",
    "df['Negative'] = neg\n",
    "df['Neutral'] = neu\n",
    "df['Positive'] = pos\n",
    "df['Compound'] = com\n",
    "df['Sentiment'] = sen\n",
    "df.info(), df.describe(), df"
   ]
  },
  {
   "cell_type": "code",
   "execution_count": 15,
   "id": "fcd2c64b-8854-4036-b408-049e30fc43a6",
   "metadata": {},
   "outputs": [
    {
     "name": "stdout",
     "output_type": "stream",
     "text": [
      "X: (70,)\n",
      "0                                love sleek design car.\n",
      "1                        car excellent fuel efficiency.\n",
      "2                        safety features car top-notch.\n",
      "3                   car's performance road outstanding.\n",
      "4                    interior car spacious comfortable.\n",
      "                            ...                        \n",
      "65           car's safety features creates many doubts.\n",
      "66               car's suspension system offers smooth.\n",
      "67    appreciate car's fuel-saving start-stop featur...\n",
      "68                           car's steering responsive.\n",
      "69      car's smartphone integration works erratically.\n",
      "Name: Response, Length: 70, dtype: object\n",
      "y: (70,)\n",
      "0     1\n",
      "1     1\n",
      "2     0\n",
      "3     1\n",
      "4     1\n",
      "     ..\n",
      "65    0\n",
      "66   -1\n",
      "67   -1\n",
      "68   -1\n",
      "69   -1\n",
      "Name: Sentiment, Length: 70, dtype: int64\n"
     ]
    }
   ],
   "source": [
    "# create data\n",
    "X0 = df['Response']\n",
    "y = df['Sentiment']\n",
    "print(f\"X: {X0.shape}\\n{X0}\\ny: {y.shape}\\n{y}\")"
   ]
  },
  {
   "cell_type": "code",
   "execution_count": 16,
   "id": "ad485349-f993-4b27-a380-883a7fd72b6a",
   "metadata": {},
   "outputs": [
    {
     "name": "stdout",
     "output_type": "stream",
     "text": [
      "X Sparse: (70, 192)\n",
      "[[0 0 0 ... 0 0 0]\n",
      " [0 0 0 ... 0 0 0]\n",
      " [0 0 0 ... 0 0 0]\n",
      " ...\n",
      " [0 0 0 ... 0 0 0]\n",
      " [0 0 0 ... 0 0 0]\n",
      " [0 0 0 ... 0 0 1]]\n",
      "X1 Sparse: (70, 192)\n",
      "[[0.         0.         0.         ... 0.         0.         0.        ]\n",
      " [0.         0.         0.         ... 0.         0.         0.        ]\n",
      " [0.         0.         0.         ... 0.         0.         0.        ]\n",
      " ...\n",
      " [0.         0.         0.         ... 0.         0.         0.        ]\n",
      " [0.         0.         0.         ... 0.         0.         0.        ]\n",
      " [0.         0.         0.         ... 0.         0.         0.52719773]]\n"
     ]
    }
   ],
   "source": [
    "# encode data with Count Vectorizer and TFIDF Vectorizer\n",
    "cV = CountVectorizer()\n",
    "cV.fit(X0)\n",
    "X = cV.transform(X0).toarray()\n",
    "tV = TfidfVectorizer()\n",
    "tV.fit(X0)\n",
    "X1 = tV.transform(X0).toarray()\n",
    "print(f\"X Sparse: {X.shape}\\n{X}\\nX1 Sparse: {X1.shape}\\n{X1}\")"
   ]
  },
  {
   "cell_type": "code",
   "execution_count": 19,
   "id": "7fbb8474-aa14-48d4-94f0-6de9e6302fe5",
   "metadata": {},
   "outputs": [
    {
     "name": "stdout",
     "output_type": "stream",
     "text": [
      "X_res: (75, 192)\n",
      "[[0 0 0 ... 0 0 0]\n",
      " [0 0 0 ... 0 0 0]\n",
      " [0 0 0 ... 0 0 0]\n",
      " ...\n",
      " [0 0 0 ... 0 0 0]\n",
      " [0 0 0 ... 0 0 0]\n",
      " [0 0 0 ... 0 0 0]]\n",
      "y_res: (75,)\n",
      "0    -1\n",
      "1     1\n",
      "2    -1\n",
      "3    -1\n",
      "4     0\n",
      "     ..\n",
      "70    1\n",
      "71    1\n",
      "72    1\n",
      "73    1\n",
      "74    1\n",
      "Name: Sentiment, Length: 75, dtype: int64\n"
     ]
    },
    {
     "data": {
      "text/plain": [
       "count    75.000000\n",
       "mean      0.000000\n",
       "std       0.821995\n",
       "min      -1.000000\n",
       "25%      -1.000000\n",
       "50%       0.000000\n",
       "75%       1.000000\n",
       "max       1.000000\n",
       "Name: Sentiment, dtype: float64"
      ]
     },
     "execution_count": 19,
     "metadata": {},
     "output_type": "execute_result"
    }
   ],
   "source": [
    "# data for models\n",
    "X_train, X_test, y_train, y_test = train_test_split(X,y,test_size=0.2,random_state=42)\n",
    "X1_train, X1_test, y1_train, y1_test = train_test_split(X1,y,test_size=0.2,random_state=42)\n",
    "sm = SMOTE(random_state=42)\n",
    "X_res, y_res = sm.fit_resample(X_train,y_train)\n",
    "X1_res, y1_res = sm.fit_resample(X1_train,y1_train)\n",
    "print(f\"X_res: {X_res.shape}\\n{X_res}\\ny_res: {y_res.shape}\\n{y_res}\")\n",
    "y_res.describe()"
   ]
  },
  {
   "cell_type": "code",
   "execution_count": 20,
   "id": "f9778877-a511-4d9e-8128-4df62dc7ef70",
   "metadata": {},
   "outputs": [
    {
     "name": "stdout",
     "output_type": "stream",
     "text": [
      "y: (14,)\n",
      "y1: (14,)\n",
      "count_pred: (14,)\n",
      "[ 1 -1 -1  1  0 -1  1  1 -1 -1 -1  0  0 -1]\n",
      "tfidf_pred: (14,)\n",
      "[ 1 -1 -1  1  0  1  1  1 -1 -1 -1  0  0 -1]\n"
     ]
    }
   ],
   "source": [
    "# GaussianNB\n",
    "GNB = GaussianNB()\n",
    "countV = GNB.fit(X_train,y_train)\n",
    "tfidfV = GNB.fit(X1_train,y1_train)\n",
    "count_pred_train = countV.predict(X_train)\n",
    "tfidf_pred_train = tfidfV.predict(X1_train)\n",
    "count_pred_test = countV.predict(X_test)\n",
    "tfidf_pred_test = tfidfV.predict(X1_test)\n",
    "print(f\"y: {y_test.shape}\\ny1: {y1_test.shape}\")\n",
    "print(f\"count_pred: {count_pred_test.shape}\\n{count_pred_test}\\ntfidf_pred: {tfidf_pred_test.shape}\\n{tfidf_pred_test}\")"
   ]
  },
  {
   "cell_type": "code",
   "execution_count": 25,
   "id": "84d5998a-385d-4f04-9f37-1ff016b2cb39",
   "metadata": {},
   "outputs": [
    {
     "name": "stdout",
     "output_type": "stream",
     "text": [
      "Count Vectorizer\n",
      "Train Accuracy: 0.9821428571428571\n",
      "Test Accuracy: 0.5\n",
      "\n",
      "TFIDF Vectorizer\n",
      "Train Accuracy: 0.9464285714285714\n",
      "Test Accuracy: 0.42857142857142855\n"
     ]
    },
    {
     "data": {
      "text/plain": [
       "<Axes: title={'center': 'TFIDF Vectorizer Confusion Matrix'}>"
      ]
     },
     "execution_count": 25,
     "metadata": {},
     "output_type": "execute_result"
    },
    {
     "data": {
      "image/png": "[encoded data removed]",
      "text/plain": [
       "<Figure size 1200x500 with 4 Axes>"
      ]
     },
     "metadata": {},
     "output_type": "display_data"
    }
   ],
   "source": [
    "# check performance\n",
    "cv_acc_train = accuracy_score(count_pred_train,y_train)\n",
    "cv_acc_test = accuracy_score(count_pred_test,y_test)\n",
    "tv_acc_train = accuracy_score(tfidf_pred_train,y1_train)\n",
    "tv_acc_test = accuracy_score(tfidf_pred_test,y1_test)\n",
    "cm_cv = confusion_matrix(count_pred_test,y_test)\n",
    "cm_tv = confusion_matrix(tfidf_pred_test,y1_test)\n",
    "print(f\"Count Vectorizer\\nTrain Accuracy: {cv_acc_train}\\nTest Accuracy: {cv_acc_test}\")\n",
    "print(f\"\\nTFIDF Vectorizer\\nTrain Accuracy: {tv_acc_train}\\nTest Accuracy: {tv_acc_test}\")\n",
    "plt.figure(figsize=(12,5))\n",
    "plt.subplot(1,2,1)\n",
    "plt.title('Count Vectorizer Confusion Matrix')\n",
    "sb.heatmap(cm_cv,cmap='Reds')\n",
    "plt.subplot(1,2,2)\n",
    "plt.title('TFIDF Vectorizer Confusion Matrix')\n",
    "sb.heatmap(cm_tv,cmap='Reds')"
   ]
  },
  {
   "cell_type": "code",
   "execution_count": 26,
   "id": "39ccf92f-8c0b-42bc-addf-1aeae8b8002a",
   "metadata": {},
   "outputs": [
    {
     "data": {
      "text/html": [
       "<div>\n",
       "<style scoped>\n",
       "    .dataframe tbody tr th:only-of-type {\n",
       "        vertical-align: middle;\n",
       "    }\n",
       "\n",
       "    .dataframe tbody tr th {\n",
       "        vertical-align: top;\n",
       "    }\n",
       "\n",
       "    .dataframe thead th {\n",
       "        text-align: right;\n",
       "    }\n",
       "</style>\n",
       "<table border=\"1\" class=\"dataframe\">\n",
       "  <thead>\n",
       "    <tr style=\"text-align: right;\">\n",
       "      <th></th>\n",
       "      <th>Response</th>\n",
       "    </tr>\n",
       "  </thead>\n",
       "  <tbody>\n",
       "    <tr>\n",
       "      <th>0</th>\n",
       "      <td>car horrible</td>\n",
       "    </tr>\n",
       "    <tr>\n",
       "      <th>1</th>\n",
       "      <td>car smartphone integration works poorly</td>\n",
       "    </tr>\n",
       "    <tr>\n",
       "      <th>2</th>\n",
       "      <td>car excellent</td>\n",
       "    </tr>\n",
       "    <tr>\n",
       "      <th>3</th>\n",
       "      <td>car ordinary</td>\n",
       "    </tr>\n",
       "  </tbody>\n",
       "</table>\n",
       "</div>"
      ],
      "text/plain": [
       "                                  Response\n",
       "0                             car horrible\n",
       "1  car smartphone integration works poorly\n",
       "2                            car excellent\n",
       "3                             car ordinary"
      ]
     },
     "execution_count": 26,
     "metadata": {},
     "output_type": "execute_result"
    }
   ],
   "source": [
    "# new data\n",
    "resp = pd.DataFrame([\"The car is horrible\",'The car smartphone integration works poorly',\"The car is excellent\",\"the car is ordinary\"],columns=['Response'])\n",
    "resp['Response'] = resp['Response'].str.lower()\n",
    "resp['Response'] = resp['Response'].apply(lambda x: ' '.join([word for word in x.split() if word not in sw]))\n",
    "resp"
   ]
  },
  {
   "cell_type": "code",
   "execution_count": 27,
   "id": "3a8043ad-6c2b-4bd0-8447-e0563154ecf6",
   "metadata": {},
   "outputs": [
    {
     "name": "stdout",
     "output_type": "stream",
     "text": [
      "Response:\n",
      "0                               car horrible\n",
      "1    car smartphone integration works poorly\n",
      "2                              car excellent\n",
      "3                               car ordinary\n",
      "Name: Response, dtype: object\n",
      "Count:\n",
      "[-1 -1  1 -1]\n",
      "TFIDF:\n",
      "[-1 -1  1 -1]\n"
     ]
    }
   ],
   "source": [
    "# predict on models\n",
    "XT = resp['Response']\n",
    "XTc = cV.transform(XT).toarray()\n",
    "XTt = tV.transform(XT).toarray()\n",
    "untrained_cV = countV.predict(XTc)\n",
    "untrained_tV = tfidfV.predict(XTt)\n",
    "print(f\"Response:\\n{resp['Response']}\\nCount:\\n{untrained_cV}\\nTFIDF:\\n{untrained_tV}\")"
   ]
  },
  {
   "cell_type": "code",
   "execution_count": null,
   "id": "6617d4ab-acdd-473c-bdd3-204e535b238a",
   "metadata": {},
   "outputs": [],
   "source": []
  }
 ],
 "metadata": {
  "kernelspec": {
   "display_name": "Python 3 (ipykernel)",
   "language": "python",
   "name": "python3"
  },
  "language_info": {
   "codemirror_mode": {
    "name": "ipython",
    "version": 3
   },
   "file_extension": ".py",
   "mimetype": "text/x-python",
   "name": "python",
   "nbconvert_exporter": "python",
   "pygments_lexer": "ipython3",
   "version": "3.10.12"
  }
 },
 "nbformat": 4,
 "nbformat_minor": 5
}
